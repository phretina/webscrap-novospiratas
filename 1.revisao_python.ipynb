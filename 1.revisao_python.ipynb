{
  "nbformat": 4,
  "nbformat_minor": 0,
  "metadata": {
    "colab": {
      "name": "1.revisao_python.ipynb",
      "version": "0.3.2",
      "provenance": []
    },
    "language_info": {
      "codemirror_mode": {
        "name": "ipython",
        "version": 3
      },
      "file_extension": ".py",
      "mimetype": "text/x-python",
      "name": "python",
      "nbconvert_exporter": "python",
      "pygments_lexer": "ipython3",
      "version": "3.6.8"
    },
    "kernelspec": {
      "display_name": "Python 3",
      "language": "python",
      "name": "python3"
    }
  },
  "cells": [
    {
      "cell_type": "markdown",
      "metadata": {
        "id": "gb85iXDn5bK_",
        "colab_type": "text"
      },
      "source": [
        "## 1.1 List, Tuple and Dictionary"
      ]
    },
    {
      "cell_type": "markdown",
      "metadata": {
        "id": "ef7z-rIr5bLJ",
        "colab_type": "text"
      },
      "source": [
        "### List"
      ]
    },
    {
      "cell_type": "code",
      "metadata": {
        "id": "syKep3Uo5bLN",
        "colab_type": "code",
        "colab": {}
      },
      "source": [
        "l = []\n",
        "type(l)"
      ],
      "execution_count": 0,
      "outputs": []
    },
    {
      "cell_type": "code",
      "metadata": {
        "id": "RTF6Zgce5bLT",
        "colab_type": "code",
        "colab": {}
      },
      "source": [
        "l = [1,2,3,4,5,6]"
      ],
      "execution_count": 0,
      "outputs": []
    },
    {
      "cell_type": "code",
      "metadata": {
        "id": "qcYc3MDW5bLZ",
        "colab_type": "code",
        "colab": {}
      },
      "source": [
        "print(l[1],l[4])"
      ],
      "execution_count": 0,
      "outputs": []
    },
    {
      "cell_type": "code",
      "metadata": {
        "id": "X3PxCTbC5bLd",
        "colab_type": "code",
        "colab": {}
      },
      "source": [
        "print(l)"
      ],
      "execution_count": 0,
      "outputs": []
    },
    {
      "cell_type": "code",
      "metadata": {
        "id": "65BnGHJI5bLh",
        "colab_type": "code",
        "colab": {}
      },
      "source": [
        "len(l)"
      ],
      "execution_count": 0,
      "outputs": []
    },
    {
      "cell_type": "code",
      "metadata": {
        "id": "1ooOF5-c5bLl",
        "colab_type": "code",
        "colab": {}
      },
      "source": [
        "sum(l)"
      ],
      "execution_count": 0,
      "outputs": []
    },
    {
      "cell_type": "code",
      "metadata": {
        "id": "q3r7WyJI5bLx",
        "colab_type": "code",
        "colab": {}
      },
      "source": [
        "max(l), min(l)"
      ],
      "execution_count": 0,
      "outputs": []
    },
    {
      "cell_type": "code",
      "metadata": {
        "id": "Db3OUxXW5bL2",
        "colab_type": "code",
        "colab": {}
      },
      "source": [
        "type(l), type(l[0])"
      ],
      "execution_count": 0,
      "outputs": []
    },
    {
      "cell_type": "code",
      "metadata": {
        "id": "35Kl_w4m5bL7",
        "colab_type": "code",
        "colab": {}
      },
      "source": [
        "l = [1,2.0,3,4,5,'Banana']"
      ],
      "execution_count": 0,
      "outputs": []
    },
    {
      "cell_type": "code",
      "metadata": {
        "id": "L1-mxQog5bME",
        "colab_type": "code",
        "colab": {}
      },
      "source": [
        "type(l[1]),type(l[3]),type(l[5])"
      ],
      "execution_count": 0,
      "outputs": []
    },
    {
      "cell_type": "code",
      "metadata": {
        "id": "aS5oeOWI5bMN",
        "colab_type": "code",
        "colab": {}
      },
      "source": [
        "l = [[1,2,3],[3,4,5]]"
      ],
      "execution_count": 0,
      "outputs": []
    },
    {
      "cell_type": "code",
      "metadata": {
        "id": "9zdhu8165bMP",
        "colab_type": "code",
        "colab": {}
      },
      "source": [
        "l[1]"
      ],
      "execution_count": 0,
      "outputs": []
    },
    {
      "cell_type": "code",
      "metadata": {
        "id": "EdXQzual5bMT",
        "colab_type": "code",
        "colab": {}
      },
      "source": [
        "l[0][1]"
      ],
      "execution_count": 0,
      "outputs": []
    },
    {
      "cell_type": "code",
      "metadata": {
        "id": "aFRooRPA5bMY",
        "colab_type": "code",
        "colab": {}
      },
      "source": [
        "l1 = [1,2,3] \n",
        "l2 = [2,4,6]"
      ],
      "execution_count": 0,
      "outputs": []
    },
    {
      "cell_type": "code",
      "metadata": {
        "id": "LRFTaPLV5bMb",
        "colab_type": "code",
        "colab": {}
      },
      "source": [
        "l1+l2"
      ],
      "execution_count": 0,
      "outputs": []
    },
    {
      "cell_type": "code",
      "metadata": {
        "id": "9hJC7T4r5bMe",
        "colab_type": "code",
        "colab": {}
      },
      "source": [
        "l = []\n",
        "for i in range(10):\n",
        "    l.append(i)"
      ],
      "execution_count": 0,
      "outputs": []
    },
    {
      "cell_type": "code",
      "metadata": {
        "id": "N1EHDi5m5bMh",
        "colab_type": "code",
        "colab": {}
      },
      "source": [
        "l"
      ],
      "execution_count": 0,
      "outputs": []
    },
    {
      "cell_type": "code",
      "metadata": {
        "id": "ZjpXvlim5bMk",
        "colab_type": "code",
        "colab": {}
      },
      "source": [
        "l = [i for i in range(10)]"
      ],
      "execution_count": 0,
      "outputs": []
    },
    {
      "cell_type": "code",
      "metadata": {
        "id": "AipfDwPs5bMw",
        "colab_type": "code",
        "colab": {}
      },
      "source": [
        "l"
      ],
      "execution_count": 0,
      "outputs": []
    },
    {
      "cell_type": "markdown",
      "metadata": {
        "id": "YFeVjTDc5bM0",
        "colab_type": "text"
      },
      "source": [
        "### Tuples"
      ]
    },
    {
      "cell_type": "code",
      "metadata": {
        "id": "CQKOe_ZM5bM1",
        "colab_type": "code",
        "colab": {}
      },
      "source": [
        "t = (1,2,3,4)"
      ],
      "execution_count": 0,
      "outputs": []
    },
    {
      "cell_type": "code",
      "metadata": {
        "id": "E7lF_xpf5bM5",
        "colab_type": "code",
        "colab": {}
      },
      "source": [
        "type(t)"
      ],
      "execution_count": 0,
      "outputs": []
    },
    {
      "cell_type": "code",
      "metadata": {
        "id": "wJPVSaQ_5bM7",
        "colab_type": "code",
        "colab": {}
      },
      "source": [
        "t[2]"
      ],
      "execution_count": 0,
      "outputs": []
    },
    {
      "cell_type": "markdown",
      "metadata": {
        "id": "8NaOoDuS5bM-",
        "colab_type": "text"
      },
      "source": [
        "### Dictionary"
      ]
    },
    {
      "cell_type": "code",
      "metadata": {
        "id": "6oKINLw35bNB",
        "colab_type": "code",
        "colab": {}
      },
      "source": [
        "d = dict()"
      ],
      "execution_count": 0,
      "outputs": []
    },
    {
      "cell_type": "code",
      "metadata": {
        "id": "kkqZyi-a5bNG",
        "colab_type": "code",
        "colab": {}
      },
      "source": [
        "dd = {}"
      ],
      "execution_count": 0,
      "outputs": []
    },
    {
      "cell_type": "code",
      "metadata": {
        "id": "f_ley5Ke5bNM",
        "colab_type": "code",
        "colab": {}
      },
      "source": [
        "type(d), type(dd)"
      ],
      "execution_count": 0,
      "outputs": []
    },
    {
      "cell_type": "code",
      "metadata": {
        "id": "BfRiwpCo5bNO",
        "colab_type": "code",
        "colab": {}
      },
      "source": [
        "d = {\"usuário\":\"bob\",\n",
        "     \"idade\":18,\n",
        "     \"salário\":1200.00,\n",
        "     \"fumante\":True}"
      ],
      "execution_count": 0,
      "outputs": []
    },
    {
      "cell_type": "code",
      "metadata": {
        "id": "DHgxtH4C5bNQ",
        "colab_type": "code",
        "colab": {}
      },
      "source": [
        "d"
      ],
      "execution_count": 0,
      "outputs": []
    },
    {
      "cell_type": "code",
      "metadata": {
        "id": "TLY6Ozhr5bNT",
        "colab_type": "code",
        "colab": {}
      },
      "source": [
        "d.keys()"
      ],
      "execution_count": 0,
      "outputs": []
    },
    {
      "cell_type": "code",
      "metadata": {
        "id": "Ck9C3gEv5bNY",
        "colab_type": "code",
        "colab": {}
      },
      "source": [
        "d.values()"
      ],
      "execution_count": 0,
      "outputs": []
    },
    {
      "cell_type": "code",
      "metadata": {
        "id": "8FAHbO4T5bNa",
        "colab_type": "code",
        "colab": {}
      },
      "source": [
        "d['idade']"
      ],
      "execution_count": 0,
      "outputs": []
    },
    {
      "cell_type": "code",
      "metadata": {
        "id": "eqx9gltc5bNd",
        "colab_type": "code",
        "colab": {}
      },
      "source": [
        "d['fumante']"
      ],
      "execution_count": 0,
      "outputs": []
    },
    {
      "cell_type": "code",
      "metadata": {
        "id": "hfRDDrLI5bNg",
        "colab_type": "code",
        "colab": {}
      },
      "source": [
        "for key, value in d.items():\n",
        "    print(key,value)"
      ],
      "execution_count": 0,
      "outputs": []
    },
    {
      "cell_type": "code",
      "metadata": {
        "id": "1fxRd8UB5bNi",
        "colab_type": "code",
        "colab": {}
      },
      "source": [
        "d.update({'cpf':'123.456.678-10'})"
      ],
      "execution_count": 0,
      "outputs": []
    },
    {
      "cell_type": "code",
      "metadata": {
        "id": "bybWGHrS5bNl",
        "colab_type": "code",
        "colab": {}
      },
      "source": [
        "d"
      ],
      "execution_count": 0,
      "outputs": []
    },
    {
      "cell_type": "code",
      "metadata": {
        "id": "W_HJA-KI5bNv",
        "colab_type": "code",
        "colab": {}
      },
      "source": [
        "d['rg'] = '12.1223.12312'"
      ],
      "execution_count": 0,
      "outputs": []
    },
    {
      "cell_type": "code",
      "metadata": {
        "id": "6-GsL5_f5bN0",
        "colab_type": "code",
        "colab": {}
      },
      "source": [
        "d"
      ],
      "execution_count": 0,
      "outputs": []
    },
    {
      "cell_type": "markdown",
      "metadata": {
        "id": "KlgbgcHx5bN3",
        "colab_type": "text"
      },
      "source": [
        "## For, while loops and If, elif and else"
      ]
    },
    {
      "cell_type": "code",
      "metadata": {
        "id": "w6b5pvPq5bN4",
        "colab_type": "code",
        "colab": {}
      },
      "source": [
        "for i in range(10):\n",
        "    print(i)"
      ],
      "execution_count": 0,
      "outputs": []
    },
    {
      "cell_type": "code",
      "metadata": {
        "id": "WCGT8sYd5bN6",
        "colab_type": "code",
        "colab": {}
      },
      "source": [
        "i = 0\n",
        "while i < 10:\n",
        "    print(i)\n",
        "    i=i+1"
      ],
      "execution_count": 0,
      "outputs": []
    },
    {
      "cell_type": "code",
      "metadata": {
        "id": "p7b5Km-y5bN-",
        "colab_type": "code",
        "colab": {}
      },
      "source": [
        "for i in range(10):\n",
        "    if (i == 2):\n",
        "        print(i)"
      ],
      "execution_count": 0,
      "outputs": []
    },
    {
      "cell_type": "code",
      "metadata": {
        "id": "x2sBLJkQ5bOD",
        "colab_type": "code",
        "colab": {}
      },
      "source": [
        "i = 0\n",
        "while i < 10:\n",
        "    if (i == 2):\n",
        "        print(i)\n",
        "    elif (i == 3):\n",
        "        print(i)\n",
        "    else:\n",
        "        print('no')\n",
        "    i=i+1"
      ],
      "execution_count": 0,
      "outputs": []
    },
    {
      "cell_type": "markdown",
      "metadata": {
        "id": "ne0sb8u05bOG",
        "colab_type": "text"
      },
      "source": [
        "## Functions"
      ]
    },
    {
      "cell_type": "code",
      "metadata": {
        "id": "G-7yaLpN5bOH",
        "colab_type": "code",
        "colab": {}
      },
      "source": [
        "import math"
      ],
      "execution_count": 0,
      "outputs": []
    },
    {
      "cell_type": "code",
      "metadata": {
        "id": "BlZtTbsV5bOI",
        "colab_type": "code",
        "colab": {}
      },
      "source": [
        "def area_circle(r):\n",
        "    A = math.pi * r**2\n",
        "    return A"
      ],
      "execution_count": 0,
      "outputs": []
    },
    {
      "cell_type": "code",
      "metadata": {
        "id": "gsMcuRTc5bOK",
        "colab_type": "code",
        "colab": {}
      },
      "source": [
        "area_circle(10)"
      ],
      "execution_count": 0,
      "outputs": []
    },
    {
      "cell_type": "code",
      "metadata": {
        "id": "mjTwYznI5bOT",
        "colab_type": "code",
        "colab": {}
      },
      "source": [
        ""
      ],
      "execution_count": 0,
      "outputs": []
    }
  ]
}