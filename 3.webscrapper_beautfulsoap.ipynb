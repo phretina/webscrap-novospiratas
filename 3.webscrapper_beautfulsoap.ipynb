{
 "cells": [
  {
   "cell_type": "markdown",
   "metadata": {
    "colab_type": "text",
    "id": "SEHh04KaT5Zs"
   },
   "source": [
    "# Web scrapper"
   ]
  },
  {
   "cell_type": "markdown",
   "metadata": {},
   "source": [
    "### Hello World"
   ]
  },
  {
   "cell_type": "code",
   "execution_count": null,
   "metadata": {},
   "outputs": [],
   "source": [
    "from bs4 import BeautifulSoup"
   ]
  },
  {
   "cell_type": "code",
   "execution_count": null,
   "metadata": {},
   "outputs": [],
   "source": [
    "raw_html = open('hello_world.html').read()"
   ]
  },
  {
   "cell_type": "code",
   "execution_count": null,
   "metadata": {},
   "outputs": [],
   "source": [
    "raw_html"
   ]
  },
  {
   "cell_type": "code",
   "execution_count": null,
   "metadata": {},
   "outputs": [],
   "source": [
    "html = BeautifulSoup(raw_html, 'html.parser')"
   ]
  },
  {
   "cell_type": "code",
   "execution_count": null,
   "metadata": {},
   "outputs": [],
   "source": [
    "for p in html.select('p'):\n",
    "    print(p.text)"
   ]
  },
  {
   "cell_type": "code",
   "execution_count": null,
   "metadata": {},
   "outputs": [],
   "source": [
    "for p in html.select('p'):\n",
    "    if p['id'] == 'walrus':\n",
    "        print(p.text)"
   ]
  },
  {
   "cell_type": "markdown",
   "metadata": {},
   "source": [
    "## Importar dados da [NASDAQ](https://www.nasdaq.com/screening/companies-by-industry.aspx?industry=Technology&sortname=marketcap&sorttype=1&page=1)"
   ]
  },
  {
   "cell_type": "markdown",
   "metadata": {
    "colab_type": "text",
    "id": "p7QufSe1T_Wd"
   },
   "source": [
    "## 1. Importar todas as libs necessárias"
   ]
  },
  {
   "cell_type": "code",
   "execution_count": null,
   "metadata": {
    "colab": {},
    "colab_type": "code",
    "id": "GCi21HMEUl1M"
   },
   "outputs": [],
   "source": [
    "from time import time, sleep\n",
    "from random import randint\n",
    "import requests\n",
    "from bs4 import BeautifulSoup\n",
    "import matplotlib.pyplot as plt\n",
    "import pandas as pd\n",
    "%matplotlib inline "
   ]
  },
  {
   "cell_type": "markdown",
   "metadata": {
    "colab_type": "text",
    "id": "Svm3W57xANVl"
   },
   "source": [
    "## 2. Fazer a Requisição HTTP GET usando a lib `request`\n",
    "[Documentação](https://requests.readthedocs.io/pt_BR/latest/user/quickstart.html)"
   ]
  },
  {
   "cell_type": "code",
   "execution_count": null,
   "metadata": {
    "colab": {},
    "colab_type": "code",
    "id": "6MRUL9Pd_5CY"
   },
   "outputs": [],
   "source": [
    "URL = 'https://www.nasdaq.com/screening/companies-by-industry.aspx?industry=Technology&sortname=marketcap&sorttype=1&page=1'"
   ]
  },
  {
   "cell_type": "code",
   "execution_count": null,
   "metadata": {
    "colab": {},
    "colab_type": "code",
    "id": "hQIVAsKRAAa-"
   },
   "outputs": [],
   "source": [
    "response = requests.get(URL)"
   ]
  },
  {
   "cell_type": "code",
   "execution_count": null,
   "metadata": {
    "colab": {
     "base_uri": "https://localhost:8080/",
     "height": 34
    },
    "colab_type": "code",
    "id": "pnxI97CjAekW",
    "outputId": "59b436f4-402c-451d-cadb-2b40f5bf618f"
   },
   "outputs": [],
   "source": [
    "response.status_code"
   ]
  },
  {
   "cell_type": "code",
   "execution_count": null,
   "metadata": {
    "colab": {
     "base_uri": "https://localhost:8080/",
     "height": 836
    },
    "colab_type": "code",
    "id": "ivBOjz9GAg-B",
    "outputId": "567a9bc2-82f9-4815-b72e-34464db4a9d8"
   },
   "outputs": [],
   "source": [
    "print(response.text[20000:25000])"
   ]
  },
  {
   "cell_type": "markdown",
   "metadata": {
    "colab_type": "text",
    "id": "u1CwJW2gA1Fj"
   },
   "source": [
    "## 3. Parsear HTML:\n",
    "vamos usar a lib `BeautifulSoup` para essa etapa, [documentação](https://www.crummy.com/software/BeautifulSoup/bs4/doc/)\n",
    "\n",
    "1. Clique com o botão direito sobre o elemento em HTML e selecione a opção `Inspect`\n",
    "2. "
   ]
  },
  {
   "cell_type": "code",
   "execution_count": null,
   "metadata": {
    "colab": {},
    "colab_type": "code",
    "id": "53fXr4cIAit2"
   },
   "outputs": [],
   "source": [
    "page_html = BeautifulSoup(response.text, 'html.parser')"
   ]
  },
  {
   "cell_type": "markdown",
   "metadata": {
    "colab_type": "text",
    "id": "jo-HeXShC8Cx"
   },
   "source": [
    "```\n",
    "<table style=\"width:100%\">\n",
    "  <tr>\n",
    "    <th>Firstname</th>\n",
    "    <th>Lastname</th> \n",
    "    <th>Age</th>\n",
    "  </tr>\n",
    "  <tr>\n",
    "    <td>Jill</td>\n",
    "    <td>Smith</td> \n",
    "    <td>50</td>\n",
    "  </tr>\n",
    "  <tr>\n",
    "    <td>Eve</td>\n",
    "    <td>Jackson</td> \n",
    "    <td>94</td>\n",
    "  </tr>\n",
    "</table>\n",
    "```\n",
    "\n",
    "<table style=\"width:100%\">\n",
    "  <tr>\n",
    "    <th>Firstname</th>\n",
    "    <th>Lastname</th> \n",
    "    <th>Age</th>\n",
    "  </tr>\n",
    "  <tr>\n",
    "    <td>Jill</td>\n",
    "    <td>Smith</td> \n",
    "    <td>50</td>\n",
    "  </tr>\n",
    "  <tr>\n",
    "    <td>Eve</td>\n",
    "    <td>Jackson</td> \n",
    "    <td>94</td>\n",
    "  </tr>\n",
    "</table>\n",
    "\n",
    "ref: https://www.w3schools.com/html/html_tables.asp"
   ]
  },
  {
   "cell_type": "code",
   "execution_count": null,
   "metadata": {
    "colab": {},
    "colab_type": "code",
    "id": "gTg2K94JBPfX"
   },
   "outputs": [],
   "source": [
    "# Selecionar todas as ações da página 1\n",
    "html = page_html.find('table', attrs={'id':'CompanylistResults'})"
   ]
  },
  {
   "cell_type": "markdown",
   "metadata": {
    "colab_type": "text",
    "id": "SZgEsqBxGOUx"
   },
   "source": [
    "Vamos coletar todos as tags `<tr>`"
   ]
  },
  {
   "cell_type": "code",
   "execution_count": null,
   "metadata": {
    "colab": {},
    "colab_type": "code",
    "id": "kIfxplsIEV83"
   },
   "outputs": [],
   "source": [
    "rows = html.find_all('tr')"
   ]
  },
  {
   "cell_type": "markdown",
   "metadata": {
    "colab_type": "text",
    "id": "An44nvvMGXwU"
   },
   "source": [
    "Vamos testar a primeira ocorrência"
   ]
  },
  {
   "cell_type": "code",
   "execution_count": null,
   "metadata": {
    "colab": {
     "base_uri": "https://localhost:8080/",
     "height": 275
    },
    "colab_type": "code",
    "id": "9gsaNzwcFWhX",
    "outputId": "381bc2d0-6405-41f0-c7fa-7c8ac51529e8"
   },
   "outputs": [],
   "source": [
    "row = rows[1]\n",
    "print(row)"
   ]
  },
  {
   "cell_type": "code",
   "execution_count": null,
   "metadata": {
    "colab": {
     "base_uri": "https://localhost:8080/",
     "height": 309
    },
    "colab_type": "code",
    "id": "CppdxepRFZDI",
    "outputId": "43789ba1-c150-4761-fe25-b107186a2a36"
   },
   "outputs": [],
   "source": [
    "cols = row.find_all('td')\n",
    "print('número de colunas: {}'.format(len(cols)))\n",
    "print('\\n\\n')\n",
    "for i,col in enumerate(cols):\n",
    "    print('coluna {} conteudo: {}'.format(i, col))"
   ]
  },
  {
   "cell_type": "markdown",
   "metadata": {
    "colab_type": "text",
    "id": "OoBku0y-Ghfx"
   },
   "source": [
    "ou seja, temos 7 colunas\n",
    "\n",
    "agora vamos usar a seguinte função para remover espaços em branco\n"
   ]
  },
  {
   "cell_type": "code",
   "execution_count": null,
   "metadata": {
    "colab": {
     "base_uri": "https://localhost:8080/",
     "height": 170
    },
    "colab_type": "code",
    "id": "Xn1S0H0lF843",
    "outputId": "6e7af8a5-9cb1-457e-f115-9c9d611a5fca"
   },
   "outputs": [],
   "source": [
    "help(str.strip)"
   ]
  },
  {
   "cell_type": "code",
   "execution_count": null,
   "metadata": {
    "colab": {
     "base_uri": "https://localhost:8080/",
     "height": 136
    },
    "colab_type": "code",
    "id": "7FREk9HIFqWQ",
    "outputId": "508f8b55-81a2-45e5-b0ba-7b85c735a654"
   },
   "outputs": [],
   "source": [
    "for i,col in enumerate(cols):\n",
    "    print('coluna {} conteudo: {}'.format(i, col.text.strip()))"
   ]
  },
  {
   "cell_type": "code",
   "execution_count": null,
   "metadata": {
    "colab": {},
    "colab_type": "code",
    "id": "bQyBGWjwIWTN"
   },
   "outputs": [],
   "source": [
    "cols = [ele.text.strip() for ele in cols]"
   ]
  },
  {
   "cell_type": "code",
   "execution_count": null,
   "metadata": {
    "colab": {
     "base_uri": "https://localhost:8080/",
     "height": 119
    },
    "colab_type": "code",
    "id": "V5ELf1AKIzcq",
    "outputId": "75da8ca6-ab0c-466f-c492-89b5892e2b1c"
   },
   "outputs": [],
   "source": [
    "# remover espaços em branco\n",
    "[col for col in cols if col]"
   ]
  },
  {
   "cell_type": "code",
   "execution_count": null,
   "metadata": {
    "colab": {},
    "colab_type": "code",
    "id": "z1WvSuGvE7rt"
   },
   "outputs": [],
   "source": [
    "# agora vamos fazer o processo em cadeia e guardar numa lista data\n",
    "data = []\n",
    "html = page_html.find('table', attrs={'id':'CompanylistResults'})\n",
    "rows = html.find_all('tr')\n",
    "for row in rows:\n",
    "    cols = row.find_all('td')\n",
    "    cols = [col.text.strip() for col in cols]\n",
    "    data.append([col for col in cols if col])"
   ]
  },
  {
   "cell_type": "code",
   "execution_count": null,
   "metadata": {
    "colab": {
     "base_uri": "https://localhost:8080/",
     "height": 5596
    },
    "colab_type": "code",
    "id": "0z5bzzkgFEmL",
    "outputId": "464279cd-a616-4c9f-b7a4-27f4733975df"
   },
   "outputs": [],
   "source": [
    "data"
   ]
  },
  {
   "cell_type": "code",
   "execution_count": null,
   "metadata": {
    "colab": {},
    "colab_type": "code",
    "id": "J-XDzaGyJiZa"
   },
   "outputs": [],
   "source": [
    "# 1. Carregar data num pandas Dataframe\n",
    "acoes = pd.DataFrame(list(data))"
   ]
  },
  {
   "cell_type": "code",
   "execution_count": null,
   "metadata": {
    "colab": {},
    "colab_type": "code",
    "id": "fuR5OUbFKOE4"
   },
   "outputs": [],
   "source": [
    "acoes = acoes.dropna(subset=[1])"
   ]
  },
  {
   "cell_type": "code",
   "execution_count": null,
   "metadata": {
    "colab": {},
    "colab_type": "code",
    "id": "YFjBpbJnKS8j"
   },
   "outputs": [],
   "source": [
    "acoes.columns = ['Name', 'Symbol','Market Cap','Country','IPO Year','Sector','Sub Sector']"
   ]
  },
  {
   "cell_type": "code",
   "execution_count": null,
   "metadata": {
    "colab": {
     "base_uri": "https://localhost:8080/",
     "height": 221
    },
    "colab_type": "code",
    "id": "A04-GbzyLTQy",
    "outputId": "42638e29-5bcc-4181-c620-f38f7c6fb387"
   },
   "outputs": [],
   "source": [
    "acoes.info()"
   ]
  },
  {
   "cell_type": "code",
   "execution_count": null,
   "metadata": {
    "colab": {
     "base_uri": "https://localhost:8080/",
     "height": 306
    },
    "colab_type": "code",
    "id": "0HiqcAZULVEB",
    "outputId": "5bc5be9e-2b0b-44cf-dcfa-6974a57a5a6f"
   },
   "outputs": [],
   "source": [
    "acoes.head()"
   ]
  },
  {
   "cell_type": "code",
   "execution_count": null,
   "metadata": {
    "colab": {},
    "colab_type": "code",
    "id": "giRtkihfLlT6"
   },
   "outputs": [],
   "source": [
    "acoes.to_csv('acoes.csv')"
   ]
  },
  {
   "cell_type": "code",
   "execution_count": null,
   "metadata": {
    "colab": {},
    "colab_type": "code",
    "id": "CiR7pIGLMXEc"
   },
   "outputs": [],
   "source": [
    "# desafio: fizemos somente para a primeira página\n",
    "# ref: https://towardsdatascience.com/web-scraping-for-beginners-beautifulsoup-scrapy-selenium-twitter-api-f5a6d0589ea6"
   ]
  },
  {
   "cell_type": "code",
   "execution_count": null,
   "metadata": {
    "colab": {},
    "colab_type": "code",
    "id": "K-XCOV51MvaP"
   },
   "outputs": [],
   "source": []
  }
 ],
 "metadata": {
  "colab": {
   "name": "webscrapper_beautfulsoap.ipynb",
   "provenance": [],
   "version": "0.3.2"
  },
  "kernelspec": {
   "display_name": "Python 3",
   "language": "python",
   "name": "python3"
  },
  "language_info": {
   "codemirror_mode": {
    "name": "ipython",
    "version": 3
   },
   "file_extension": ".py",
   "mimetype": "text/x-python",
   "name": "python",
   "nbconvert_exporter": "python",
   "pygments_lexer": "ipython3",
   "version": "3.6.8"
  }
 },
 "nbformat": 4,
 "nbformat_minor": 1
}
