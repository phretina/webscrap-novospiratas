{
 "cells": [
  {
   "cell_type": "markdown",
   "metadata": {
    "colab_type": "text",
    "id": "SEHh04KaT5Zs"
   },
   "source": [
    "# Web scrapper"
   ]
  },
  {
   "cell_type": "markdown",
   "metadata": {},
   "source": [
    "### Hello World"
   ]
  },
  {
   "cell_type": "code",
   "execution_count": 1,
   "metadata": {},
   "outputs": [],
   "source": [
    "from bs4 import BeautifulSoup"
   ]
  },
  {
   "cell_type": "code",
   "execution_count": 2,
   "metadata": {},
   "outputs": [],
   "source": [
    "raw_html = open('hello_world.html').read()"
   ]
  },
  {
   "cell_type": "code",
   "execution_count": 3,
   "metadata": {},
   "outputs": [
    {
     "data": {
      "text/plain": [
       "'<!DOCTYPE html>\\n<html>\\n\\t<head>\\n\\t\\t  <title>Hello World!</title>\\n\\t</head>\\n\\t<body>\\n\\t\\t<p id=\"eggman\"> I am the egg man </p>\\n\\t\\t<p id=\"walrus\"> I am the walrus </p>\\n\\t</body>\\n</html>\\n'"
      ]
     },
     "execution_count": 3,
     "metadata": {},
     "output_type": "execute_result"
    }
   ],
   "source": [
    "raw_html"
   ]
  },
  {
   "cell_type": "code",
   "execution_count": 4,
   "metadata": {},
   "outputs": [],
   "source": [
    "html = BeautifulSoup(raw_html, 'html.parser')"
   ]
  },
  {
   "cell_type": "code",
   "execution_count": 5,
   "metadata": {},
   "outputs": [
    {
     "name": "stdout",
     "output_type": "stream",
     "text": [
      " I am the egg man \n",
      " I am the walrus \n"
     ]
    }
   ],
   "source": [
    "for p in html.select('p'):\n",
    "    print(p.text)"
   ]
  },
  {
   "cell_type": "code",
   "execution_count": 6,
   "metadata": {},
   "outputs": [
    {
     "name": "stdout",
     "output_type": "stream",
     "text": [
      " I am the walrus \n"
     ]
    }
   ],
   "source": [
    "for p in html.select('p'):\n",
    "    if p['id'] == 'walrus':\n",
    "        print(p.text)"
   ]
  },
  {
   "cell_type": "markdown",
   "metadata": {},
   "source": [
    "## Importar dados da [NASDAQ](https://www.nasdaq.com/screening/companies-by-industry.aspx?industry=Technology&sortname=marketcap&sorttype=1&page=1)"
   ]
  },
  {
   "cell_type": "markdown",
   "metadata": {
    "colab_type": "text",
    "id": "p7QufSe1T_Wd"
   },
   "source": [
    "## 1. Importar todas as libs necessárias"
   ]
  },
  {
   "cell_type": "code",
   "execution_count": 7,
   "metadata": {
    "colab": {},
    "colab_type": "code",
    "id": "GCi21HMEUl1M"
   },
   "outputs": [],
   "source": [
    "from time import time, sleep\n",
    "from random import randint\n",
    "import requests\n",
    "from bs4 import BeautifulSoup\n",
    "import matplotlib.pyplot as plt\n",
    "import pandas as pd\n",
    "%matplotlib inline "
   ]
  },
  {
   "cell_type": "markdown",
   "metadata": {
    "colab_type": "text",
    "id": "Svm3W57xANVl"
   },
   "source": [
    "## 2. Fazer a Requisição HTTP GET usando a lib `request`\n",
    "[Documentação](https://requests.readthedocs.io/pt_BR/latest/user/quickstart.html)"
   ]
  },
  {
   "cell_type": "code",
   "execution_count": 8,
   "metadata": {
    "colab": {},
    "colab_type": "code",
    "id": "6MRUL9Pd_5CY"
   },
   "outputs": [],
   "source": [
    "URL = 'https://www.nasdaq.com/screening/companies-by-industry.aspx?industry=Technology&sortname=marketcap&sorttype=1&page=1'"
   ]
  },
  {
   "cell_type": "code",
   "execution_count": 9,
   "metadata": {
    "colab": {},
    "colab_type": "code",
    "id": "hQIVAsKRAAa-"
   },
   "outputs": [],
   "source": [
    "response = requests.get(URL)"
   ]
  },
  {
   "cell_type": "code",
   "execution_count": 10,
   "metadata": {
    "colab": {
     "base_uri": "https://localhost:8080/",
     "height": 34
    },
    "colab_type": "code",
    "id": "pnxI97CjAekW",
    "outputId": "59b436f4-402c-451d-cadb-2b40f5bf618f"
   },
   "outputs": [
    {
     "data": {
      "text/plain": [
       "200"
      ]
     },
     "execution_count": 10,
     "metadata": {},
     "output_type": "execute_result"
    }
   ],
   "source": [
    "response.status_code"
   ]
  },
  {
   "cell_type": "code",
   "execution_count": 13,
   "metadata": {
    "colab": {
     "base_uri": "https://localhost:8080/",
     "height": 836
    },
    "colab_type": "code",
    "id": "ivBOjz9GAg-B",
    "outputId": "567a9bc2-82f9-4815-b72e-34464db4a9d8"
   },
   "outputs": [
    {
     "name": "stdout",
     "output_type": "stream",
     "text": [
      "\r\n",
      "            <div class=\"floatR half\">\r\n",
      "              <ul>\r\n",
      "                <li>\r\n",
      "                  <span class=\"fontS14px\"><b>Stock Analysis</b></span>\r\n",
      "                  <a href=\"https://www.nasdaq.com/quotes/analyst-research.aspx\" onclick=\"handleNQClick(this,'nav:quotes:analyst-research')\">Analyst Research</a>\r\n",
      "                  <a href=\"https://www.nasdaq.com/quotes/stock-guru-analysis.aspx\" onclick=\"handleNQClick(this,'nav:quotes:guru-analysis')\">Guru Analysis</a>\r\n",
      "                  <a href=\"https://www.nasdaq.com/quotes/stock-reports.aspx\" onclick=\"handleNQClick(this,'nav:quotes:stock-reports')\">Stock Reports</a>\r\n",
      "                  <a href=\"https://www.nasdaq.com/quotes/business-competitors.aspx\" onclick=\"handleNQClick(this,'nav:quotes:competitors')\">Competitors</a>\r\n",
      "                </li>\r\n",
      "                <li>\r\n",
      "                  <span class=\"fontS14px\"><b>Fundamentals</b></span>\r\n",
      "                  <a href=\"https://www.nasdaq.com/quotes/company-financials.aspx\" onclick=\"handleNQClick(this,'nav:quotes:financials')\">Financials</a>\r\n",
      "                  <a href=\"https://www.nasdaq.com/quotes/revenue-eps.aspx\" onclick=\"handleNQClick(this,'nav:quotes:revenue-eps')\">Revenue/EPS</a>\r\n",
      "                  <a href=\"https://www.nasdaq.com/quotes/sec-filings.aspx\" onclick=\"handleNQClick(this,'nav:quotes:sec-filings')\">SEC Filings</a>\r\n",
      "                  <a href=\"https://www.nasdaq.com/quotes/short-interest.aspx\" onclick=\"handleNQClick(this,'nav:quotes:short-interest')\">Short Interest</a>\r\n",
      "                  <a href=\"https://www.nasdaq.com/quotes/dividend-history.aspx\" onclick=\"handleNQClick(this,'nav:quotes:dividend-history')\">Dividend History</a>\r\n",
      "                </li>\r\n",
      "                <li>\r\n",
      "                  <span class=\"fontS14px\"><b>Holdings</b></span>\r\n",
      "                  <a href=\"https://www.nasdaq.com/quotes/ownership.aspx\" onclick=\"handleNQClick(this,'nav:quotes:ownership')\">Ownership Summary</a>\r\n",
      "                  <a href=\"https://www.nasdaq.com/quotes/institutional-holdings.aspx\" onclick=\"handleNQClick(this,'nav:quotes:institutional-holdings')\">Institutional Holdings</a>\r\n",
      "                  <a href=\"https://www.nasdaq.com/quotes/insider-trades.aspx\" onclick=\"handleNQClick(this,'nav:quotes:insider-trades')\">Insiders Form 4</a>\r\n",
      "                </li>\r\n",
      "              </ul>\r\n",
      "            </div>\r\n",
      "            <div class=\"clearB\"></div>\r\n",
      "          </div>\r\n",
      "        </div>\r\n",
      "      </li>\r\n",
      "      <li id=\"site-nav-markets\">\r\n",
      "        <a href=\"https://www.nasdaq.com/markets/\" data-click-event=\"nav:markets:markets-hub\" onclick=\"triggerAsyncOmnitureClickEvent('nav:markets:markets-hub')\">\r\n",
      "          <span>Markets</span>\r\n",
      "        </a>\r\n",
      "        <div class=\"global_dropdown\">\r\n",
      "          <div>\r\n",
      "            <div class=\"floatL half\">\r\n",
      "              <ul>\r\n",
      "                <li>\r\n",
      "                  <a href=\"https://www.nasdaq.com/extended-trading/\" onclick=\"triggerAsyncOmnitureClickEvent('nav:markets:extended')\">\r\n",
      "                    <b>Extended Hours</b>\r\n",
      "                  </a>\r\n",
      "                  <a href=\"https://www.nasdaq.com/extended-trading/premarket-mostactive.aspx\" onclick=\"triggerAsyncOmnitureClickEvent('nav:markets:pre-market')\">Pre-Market Activity</a>\r\n",
      "                  <a href=\"https://www.nasdaq.com/extended-trading/afterhours-mostactive.aspx\" onclick=\"triggerAsyncOmnitureClickEvent('nav:markets:after-hours')\">After Hours Activity</a>\r\n",
      "                </li>\r\n",
      "                <li>\r\n",
      "                  <span class=\"fontS14px\"><b>Stocks</b></span>\r\n",
      "                  <a href=\"https://www.nasdaq.com/aspx/mostactive.aspx\" onclick=\"triggerAsyncOmnitureClickEvent('nav:markets:most-active')\">Most Active</a>\r\n",
      "                  <a href=\"https://www.nasdaq.com/markets/unusual-volume.aspx\" onclick=\"triggerAsyncOmnitureClickEvent('nav:markets:unusual-volume')\">Unusual Volume</a>\r\n",
      "                  <a href=\"https://www.nasdaq.com/aspx/52-week-high-low.aspx\" onclick=\"triggerAsyncOmnitureClickEvent('nav:markets:52-week-high-low')\">52 Week High/Low</a>\r\n",
      "                  <a href=\"https://www.nasdaq.com/markets/upcoming-splits.aspx\" onclick=\"triggerAsyncOmnitureClickEvent('nav:markets:upcoming-splits')\">Upcoming Splits</a>\r\n",
      "                  <a href=\"https://www.nasdaq.com/markets/sec-filings-n.aspx\" onclick=\"triggerAsyncOmnitureClickEvent('nav:markets:sec-filings')\">New SEC Filings</a>\r\n",
      "                  <a href=\"https://www.nasdaq.com/markets/ipos\" onclick=\"triggerAsyncOmnitureClickEvent('nav:markets:ipo-summary')\">IPO Summary</a>\r\n",
      "                  <a href=\"https://www.nasdaq.com/earnings/earnings-calendar.aspx\" onclick=\"triggerAsyncOmnitureClickEvent('nav:markets:earnings-calendar')\">Earnings Calendar</a>\r\n",
      "                  <a href=\"https://www.nasdaq.com/dividend-stocks/\" onclick=\"triggerAsyncOmnitureClickEvent('nav:markets:dividend-stocks')\">Dividend Stocks</a>\r\n",
      "                  <a href=\"https://www.nasdaq.com/markets/barchart-sectors.aspx\" onclick=\"triggerAsyncOmnitureClickEvent('nav:markets:sector-analysis')\">Sector Analysis</a>\r\n",
      "                <\n"
     ]
    }
   ],
   "source": [
    "print(response.text[20000:25000])"
   ]
  },
  {
   "cell_type": "markdown",
   "metadata": {
    "colab_type": "text",
    "id": "u1CwJW2gA1Fj"
   },
   "source": [
    "## 3. Parsear HTML:\n",
    "vamos usar a lib `BeautifulSoup` para essa etapa, [documentação](https://www.crummy.com/software/BeautifulSoup/bs4/doc/)\n",
    "\n",
    "1. Clique com o botão direito sobre o elemento em HTML e selecione a opção `Inspect`\n",
    "2. "
   ]
  },
  {
   "cell_type": "code",
   "execution_count": 14,
   "metadata": {
    "colab": {},
    "colab_type": "code",
    "id": "53fXr4cIAit2"
   },
   "outputs": [],
   "source": [
    "page_html = BeautifulSoup(response.text, 'html.parser')"
   ]
  },
  {
   "cell_type": "markdown",
   "metadata": {
    "colab_type": "text",
    "id": "jo-HeXShC8Cx"
   },
   "source": [
    "```\n",
    "<table style=\"width:100%\">\n",
    "  <tr>\n",
    "    <th>Firstname</th>\n",
    "    <th>Lastname</th> \n",
    "    <th>Age</th>\n",
    "  </tr>\n",
    "  <tr>\n",
    "    <td>Jill</td>\n",
    "    <td>Smith</td> \n",
    "    <td>50</td>\n",
    "  </tr>\n",
    "  <tr>\n",
    "    <td>Eve</td>\n",
    "    <td>Jackson</td> \n",
    "    <td>94</td>\n",
    "  </tr>\n",
    "</table>\n",
    "```\n",
    "\n",
    "<table style=\"width:100%\">\n",
    "  <tr>\n",
    "    <th>Firstname</th>\n",
    "    <th>Lastname</th> \n",
    "    <th>Age</th>\n",
    "  </tr>\n",
    "  <tr>\n",
    "    <td>Jill</td>\n",
    "    <td>Smith</td> \n",
    "    <td>50</td>\n",
    "  </tr>\n",
    "  <tr>\n",
    "    <td>Eve</td>\n",
    "    <td>Jackson</td> \n",
    "    <td>94</td>\n",
    "  </tr>\n",
    "</table>\n",
    "\n",
    "ref: https://www.w3schools.com/html/html_tables.asp"
   ]
  },
  {
   "cell_type": "code",
   "execution_count": 15,
   "metadata": {
    "colab": {},
    "colab_type": "code",
    "id": "gTg2K94JBPfX"
   },
   "outputs": [],
   "source": [
    "# Selecionar todas as ações da página 1\n",
    "html = page_html.find('table', attrs={'id':'CompanylistResults'})"
   ]
  },
  {
   "cell_type": "markdown",
   "metadata": {
    "colab_type": "text",
    "id": "SZgEsqBxGOUx"
   },
   "source": [
    "Vamos coletar todos as tags `<tr>`"
   ]
  },
  {
   "cell_type": "code",
   "execution_count": 16,
   "metadata": {
    "colab": {},
    "colab_type": "code",
    "id": "kIfxplsIEV83"
   },
   "outputs": [],
   "source": [
    "rows = html.find_all('tr')"
   ]
  },
  {
   "cell_type": "markdown",
   "metadata": {
    "colab_type": "text",
    "id": "An44nvvMGXwU"
   },
   "source": [
    "Vamos testar a primeira ocorrência"
   ]
  },
  {
   "cell_type": "code",
   "execution_count": 17,
   "metadata": {
    "colab": {
     "base_uri": "https://localhost:8080/",
     "height": 275
    },
    "colab_type": "code",
    "id": "9gsaNzwcFWhX",
    "outputId": "381bc2d0-6405-41f0-c7fa-7c8ac51529e8"
   },
   "outputs": [
    {
     "name": "stdout",
     "output_type": "stream",
     "text": [
      "<tr>\n",
      "<td><a href=\"http://www.microsoft.com\" rel=\"nofollow\" target=\"_blank\">Microsoft Corporation</a></td>\n",
      "<td>\n",
      "<h3>\n",
      "<a href=\"https://www.nasdaq.com/symbol/msft\">\r\n",
      "\t\t\t\t\t\t            MSFT</a>\n",
      "</h3>\n",
      "</td>\n",
      "<td style=\"\">$987.97B</td>\n",
      "<td style=\"display:none\"></td>\n",
      "<td>United States</td>\n",
      "<td>1986</td>\n",
      "<td style=\"width:105px\">Computer Software: Prepackaged Software</td>\n",
      "</tr>\n"
     ]
    }
   ],
   "source": [
    "row = rows[1]\n",
    "print(row)"
   ]
  },
  {
   "cell_type": "code",
   "execution_count": 18,
   "metadata": {
    "colab": {
     "base_uri": "https://localhost:8080/",
     "height": 309
    },
    "colab_type": "code",
    "id": "CppdxepRFZDI",
    "outputId": "43789ba1-c150-4761-fe25-b107186a2a36"
   },
   "outputs": [
    {
     "name": "stdout",
     "output_type": "stream",
     "text": [
      "número de colunas: 7\n",
      "\n",
      "\n",
      "\n",
      "coluna 0 conteudo: <td><a href=\"http://www.microsoft.com\" rel=\"nofollow\" target=\"_blank\">Microsoft Corporation</a></td>\n",
      "coluna 1 conteudo: <td>\n",
      "<h3>\n",
      "<a href=\"https://www.nasdaq.com/symbol/msft\">\r\n",
      "\t\t\t\t\t\t            MSFT</a>\n",
      "</h3>\n",
      "</td>\n",
      "coluna 2 conteudo: <td style=\"\">$987.97B</td>\n",
      "coluna 3 conteudo: <td style=\"display:none\"></td>\n",
      "coluna 4 conteudo: <td>United States</td>\n",
      "coluna 5 conteudo: <td>1986</td>\n",
      "coluna 6 conteudo: <td style=\"width:105px\">Computer Software: Prepackaged Software</td>\n"
     ]
    }
   ],
   "source": [
    "cols = row.find_all('td')\n",
    "print('número de colunas: {}'.format(len(cols)))\n",
    "print('\\n\\n')\n",
    "for i,col in enumerate(cols):\n",
    "    print('coluna {} conteudo: {}'.format(i, col))"
   ]
  },
  {
   "cell_type": "markdown",
   "metadata": {
    "colab_type": "text",
    "id": "OoBku0y-Ghfx"
   },
   "source": [
    "ou seja, temos 7 colunas\n",
    "\n",
    "agora vamos usar a seguinte função para remover espaços em branco\n"
   ]
  },
  {
   "cell_type": "code",
   "execution_count": 19,
   "metadata": {
    "colab": {
     "base_uri": "https://localhost:8080/",
     "height": 170
    },
    "colab_type": "code",
    "id": "Xn1S0H0lF843",
    "outputId": "6e7af8a5-9cb1-457e-f115-9c9d611a5fca"
   },
   "outputs": [
    {
     "name": "stdout",
     "output_type": "stream",
     "text": [
      "Help on method_descriptor:\n",
      "\n",
      "strip(...)\n",
      "    S.strip([chars]) -> str\n",
      "    \n",
      "    Return a copy of the string S with leading and trailing\n",
      "    whitespace removed.\n",
      "    If chars is given and not None, remove characters in chars instead.\n",
      "\n"
     ]
    }
   ],
   "source": [
    "help(str.strip)"
   ]
  },
  {
   "cell_type": "code",
   "execution_count": 20,
   "metadata": {
    "colab": {
     "base_uri": "https://localhost:8080/",
     "height": 136
    },
    "colab_type": "code",
    "id": "7FREk9HIFqWQ",
    "outputId": "508f8b55-81a2-45e5-b0ba-7b85c735a654"
   },
   "outputs": [
    {
     "name": "stdout",
     "output_type": "stream",
     "text": [
      "coluna 0 conteudo: Microsoft Corporation\n",
      "coluna 1 conteudo: MSFT\n",
      "coluna 2 conteudo: $987.97B\n",
      "coluna 3 conteudo: \n",
      "coluna 4 conteudo: United States\n",
      "coluna 5 conteudo: 1986\n",
      "coluna 6 conteudo: Computer Software: Prepackaged Software\n"
     ]
    }
   ],
   "source": [
    "for i,col in enumerate(cols):\n",
    "    print('coluna {} conteudo: {}'.format(i, col.text.strip()))"
   ]
  },
  {
   "cell_type": "code",
   "execution_count": 21,
   "metadata": {
    "colab": {},
    "colab_type": "code",
    "id": "bQyBGWjwIWTN"
   },
   "outputs": [],
   "source": [
    "cols = [ele.text.strip() for ele in cols]"
   ]
  },
  {
   "cell_type": "code",
   "execution_count": 22,
   "metadata": {
    "colab": {
     "base_uri": "https://localhost:8080/",
     "height": 119
    },
    "colab_type": "code",
    "id": "V5ELf1AKIzcq",
    "outputId": "75da8ca6-ab0c-466f-c492-89b5892e2b1c"
   },
   "outputs": [
    {
     "data": {
      "text/plain": [
       "['Microsoft Corporation',\n",
       " 'MSFT',\n",
       " '$987.97B',\n",
       " 'United States',\n",
       " '1986',\n",
       " 'Computer Software: Prepackaged Software']"
      ]
     },
     "execution_count": 22,
     "metadata": {},
     "output_type": "execute_result"
    }
   ],
   "source": [
    "# remover espaços em branco\n",
    "[col for col in cols if col]"
   ]
  },
  {
   "cell_type": "code",
   "execution_count": 23,
   "metadata": {
    "colab": {},
    "colab_type": "code",
    "id": "z1WvSuGvE7rt"
   },
   "outputs": [],
   "source": [
    "# agora vamos fazer o processo em cadeia e guardar numa lista data\n",
    "data = []\n",
    "html = page_html.find('table', attrs={'id':'CompanylistResults'})\n",
    "rows = html.find_all('tr')\n",
    "for row in rows:\n",
    "    cols = row.find_all('td')\n",
    "    cols = [col.text.strip() for col in cols]\n",
    "    data.append([col for col in cols if col])"
   ]
  },
  {
   "cell_type": "code",
   "execution_count": 24,
   "metadata": {
    "colab": {
     "base_uri": "https://localhost:8080/",
     "height": 5596
    },
    "colab_type": "code",
    "id": "0z5bzzkgFEmL",
    "outputId": "464279cd-a616-4c9f-b7a4-27f4733975df"
   },
   "outputs": [
    {
     "data": {
      "text/plain": [
       "[[],\n",
       " ['Microsoft Corporation',\n",
       "  'MSFT',\n",
       "  '$987.97B',\n",
       "  'United States',\n",
       "  '1986',\n",
       "  'Computer Software: Prepackaged Software'],\n",
       " ['MSFT Stock Quote\\n\\n\\r\\n\\t\\t\\t\\t                MSFT Ratings\\n\\n\\r\\n\\t\\t\\t\\t                MSFT Stock Report'],\n",
       " ['Apple Inc.',\n",
       "  'AAPL',\n",
       "  '$874.57B',\n",
       "  'United States',\n",
       "  '1980',\n",
       "  'Computer Manufacturing'],\n",
       " ['AAPL Stock Quote\\n\\n\\r\\n\\t\\t\\t\\t                AAPL Ratings\\n\\n\\r\\n\\t\\t\\t\\t                AAPL Stock Report'],\n",
       " ['Alphabet Inc.',\n",
       "  'GOOGL',\n",
       "  '$822.33B',\n",
       "  'United States',\n",
       "  'n/a',\n",
       "  'Computer Software: Programming, Data Processing'],\n",
       " ['GOOGL Stock Quote\\n\\n\\r\\n\\t\\t\\t\\t                GOOGL Ratings\\n\\n\\r\\n\\t\\t\\t\\t                GOOGL Stock Report'],\n",
       " ['Alphabet Inc.',\n",
       "  'GOOG',\n",
       "  '$818.5B',\n",
       "  'United States',\n",
       "  '2004',\n",
       "  'Computer Software: Programming, Data Processing'],\n",
       " ['GOOG Stock Quote\\n\\n\\r\\n\\t\\t\\t\\t                GOOG Ratings\\n\\n\\r\\n\\t\\t\\t\\t                GOOG Stock Report'],\n",
       " ['Facebook, Inc.',\n",
       "  'FB',\n",
       "  '$533.76B',\n",
       "  'United States',\n",
       "  '2012',\n",
       "  'Computer Software: Programming, Data Processing'],\n",
       " ['FB Stock Quote\\n\\n\\r\\n\\t\\t\\t\\t                FB Ratings\\n\\n\\r\\n\\t\\t\\t\\t                FB Stock Report'],\n",
       " ['Cisco Systems, Inc.',\n",
       "  'CSCO',\n",
       "  '$246.21B',\n",
       "  'United States',\n",
       "  '1990',\n",
       "  'Computer Communications Equipment'],\n",
       " ['CSCO Stock Quote\\n\\n\\r\\n\\t\\t\\t\\t                CSCO Ratings\\n\\n\\r\\n\\t\\t\\t\\t                CSCO Stock Report'],\n",
       " ['Taiwan Semiconductor Manufacturing Company Ltd.',\n",
       "  'TSM',\n",
       "  '$215.38B',\n",
       "  'Taiwan',\n",
       "  '1997',\n",
       "  'Semiconductors'],\n",
       " ['TSM Stock Quote\\n\\n\\r\\n\\t\\t\\t\\t                TSM Ratings\\n\\n\\r\\n\\t\\t\\t\\t                TSM Stock Report'],\n",
       " ['Intel Corporation',\n",
       "  'INTC',\n",
       "  '$203.84B',\n",
       "  'United States',\n",
       "  'n/a',\n",
       "  'Semiconductors'],\n",
       " ['INTC Stock Quote\\n\\n\\r\\n\\t\\t\\t\\t                INTC Ratings\\n\\n\\r\\n\\t\\t\\t\\t                INTC Stock Report'],\n",
       " ['Oracle Corporation',\n",
       "  'ORCL',\n",
       "  '$186.74B',\n",
       "  'United States',\n",
       "  '1986',\n",
       "  'Computer Software: Prepackaged Software'],\n",
       " ['ORCL Stock Quote\\n\\n\\r\\n\\t\\t\\t\\t                ORCL Ratings\\n\\n\\r\\n\\t\\t\\t\\t                ORCL Stock Report'],\n",
       " ['SAP SE',\n",
       "  'SAP',\n",
       "  '$154.11B',\n",
       "  'Germany',\n",
       "  'n/a',\n",
       "  'Computer Software: Prepackaged Software'],\n",
       " ['SAP Stock Quote\\n\\n\\r\\n\\t\\t\\t\\t                SAP Ratings\\n\\n\\r\\n\\t\\t\\t\\t                SAP Stock Report'],\n",
       " ['Adobe Inc.',\n",
       "  'ADBE',\n",
       "  '$138.36B',\n",
       "  'United States',\n",
       "  '1986',\n",
       "  'Computer Software: Prepackaged Software'],\n",
       " ['ADBE Stock Quote\\n\\n\\r\\n\\t\\t\\t\\t                ADBE Ratings\\n\\n\\r\\n\\t\\t\\t\\t                ADBE Stock Report'],\n",
       " ['Salesforce.com Inc',\n",
       "  'CRM',\n",
       "  '$122.79B',\n",
       "  'United States',\n",
       "  '2004',\n",
       "  'Computer Software: Prepackaged Software'],\n",
       " ['CRM Stock Quote\\n\\n\\r\\n\\t\\t\\t\\t                CRM Ratings\\n\\n\\r\\n\\t\\t\\t\\t                CRM Stock Report'],\n",
       " ['International Business Machines Corporation',\n",
       "  'IBM',\n",
       "  '$120.48B',\n",
       "  'United States',\n",
       "  'n/a',\n",
       "  'Computer Manufacturing'],\n",
       " ['IBM Stock Quote\\n\\n\\r\\n\\t\\t\\t\\t                IBM Ratings\\n\\n\\r\\n\\t\\t\\t\\t                IBM Stock Report'],\n",
       " ['Broadcom Inc.',\n",
       "  'AVGO',\n",
       "  '$117.68B',\n",
       "  'United States',\n",
       "  '2009',\n",
       "  'Semiconductors'],\n",
       " ['AVGO Stock Quote\\n\\n\\r\\n\\t\\t\\t\\t                AVGO Ratings\\n\\n\\r\\n\\t\\t\\t\\t                AVGO Stock Report'],\n",
       " ['Texas Instruments Incorporated',\n",
       "  'TXN',\n",
       "  '$102.46B',\n",
       "  'United States',\n",
       "  'n/a',\n",
       "  'Semiconductors'],\n",
       " ['TXN Stock Quote\\n\\n\\r\\n\\t\\t\\t\\t                TXN Ratings\\n\\n\\r\\n\\t\\t\\t\\t                TXN Stock Report'],\n",
       " ['QUALCOMM Incorporated',\n",
       "  'QCOM',\n",
       "  '$100.67B',\n",
       "  'United States',\n",
       "  '1991',\n",
       "  'Radio And Television Broadcasting And Communications Equipment'],\n",
       " ['QCOM Stock Quote\\n\\n\\r\\n\\t\\t\\t\\t                QCOM Ratings\\n\\n\\r\\n\\t\\t\\t\\t                QCOM Stock Report'],\n",
       " ['NVIDIA Corporation',\n",
       "  'NVDA',\n",
       "  '$97.47B',\n",
       "  'United States',\n",
       "  '1999',\n",
       "  'Semiconductors'],\n",
       " ['NVDA Stock Quote\\n\\n\\r\\n\\t\\t\\t\\t                NVDA Ratings\\n\\n\\r\\n\\t\\t\\t\\t                NVDA Stock Report'],\n",
       " ['Vmware, Inc.',\n",
       "  'VMW',\n",
       "  '$84.32B',\n",
       "  'United States',\n",
       "  '2007',\n",
       "  'Computer Software: Prepackaged Software'],\n",
       " ['VMW Stock Quote\\n\\n\\r\\n\\t\\t\\t\\t                VMW Ratings\\n\\n\\r\\n\\t\\t\\t\\t                VMW Stock Report'],\n",
       " ['Uber Technologies, Inc.',\n",
       "  'UBER',\n",
       "  '$72.35B',\n",
       "  'n/a',\n",
       "  '2019',\n",
       "  'Computer Software: Prepackaged Software'],\n",
       " ['UBER Stock Quote\\n\\n\\r\\n\\t\\t\\t\\t                UBER Ratings\\n\\n\\r\\n\\t\\t\\t\\t                UBER Stock Report'],\n",
       " ['Automatic Data Processing, Inc.',\n",
       "  'ADP',\n",
       "  '$70.3B',\n",
       "  'United States',\n",
       "  'n/a',\n",
       "  'EDP Services'],\n",
       " ['ADP Stock Quote\\n\\n\\r\\n\\t\\t\\t\\t                ADP Ratings\\n\\n\\r\\n\\t\\t\\t\\t                ADP Stock Report'],\n",
       " ['Intuit Inc.',\n",
       "  'INTU',\n",
       "  '$64.13B',\n",
       "  'United States',\n",
       "  '1993',\n",
       "  'Computer Software: Prepackaged Software'],\n",
       " ['INTU Stock Quote\\n\\n\\r\\n\\t\\t\\t\\t                INTU Ratings\\n\\n\\r\\n\\t\\t\\t\\t                INTU Stock Report'],\n",
       " ['ServiceNow, Inc.',\n",
       "  'NOW',\n",
       "  '$51.57B',\n",
       "  'United States',\n",
       "  '2012',\n",
       "  'Computer Software: Prepackaged Software'],\n",
       " ['NOW Stock Quote\\n\\n\\r\\n\\t\\t\\t\\t                NOW Ratings\\n\\n\\r\\n\\t\\t\\t\\t                NOW Stock Report'],\n",
       " ['Dell Technologies Inc.',\n",
       "  'DELL',\n",
       "  '$50.15B',\n",
       "  'n/a',\n",
       "  '2018',\n",
       "  'Computer Manufacturing'],\n",
       " ['DELL Stock Quote\\n\\n\\r\\n\\t\\t\\t\\t                DELL Ratings\\n\\n\\r\\n\\t\\t\\t\\t                DELL Stock Report'],\n",
       " ['Illinois Tool Works Inc.',\n",
       "  'ITW',\n",
       "  '$49.67B',\n",
       "  'United States',\n",
       "  'n/a',\n",
       "  'Industrial Machinery/Components'],\n",
       " ['ITW Stock Quote\\n\\n\\r\\n\\t\\t\\t\\t                ITW Ratings\\n\\n\\r\\n\\t\\t\\t\\t                ITW Stock Report'],\n",
       " ['Workday, Inc.', 'WDAY', '$47.78B', 'United States', 'n/a', 'EDP Services'],\n",
       " ['WDAY Stock Quote\\n\\n\\r\\n\\t\\t\\t\\t                WDAY Ratings\\n\\n\\r\\n\\t\\t\\t\\t                WDAY Stock Report'],\n",
       " ['Infosys Limited', 'INFY', '$45.48B', 'India', 'n/a', 'EDP Services'],\n",
       " ['INFY Stock Quote\\n\\n\\r\\n\\t\\t\\t\\t                INFY Ratings\\n\\n\\r\\n\\t\\t\\t\\t                INFY Stock Report'],\n",
       " ['Baidu, Inc.',\n",
       "  'BIDU',\n",
       "  '$42.83B',\n",
       "  '278,664,770',\n",
       "  'China',\n",
       "  '2005',\n",
       "  'Computer Software: Programming, Data Processing'],\n",
       " ['BIDU Stock Quote\\n\\n\\r\\n\\t\\t\\t\\t                BIDU Ratings\\n\\n\\r\\n\\t\\t\\t\\t                BIDU Stock Report'],\n",
       " ['Micron Technology, Inc.',\n",
       "  'MU',\n",
       "  '$41.29B',\n",
       "  'United States',\n",
       "  'n/a',\n",
       "  'Semiconductors'],\n",
       " ['MU Stock Quote\\n\\n\\r\\n\\t\\t\\t\\t                MU Ratings\\n\\n\\r\\n\\t\\t\\t\\t                MU Stock Report'],\n",
       " ['Applied Materials, Inc.',\n",
       "  'AMAT',\n",
       "  '$39.55B',\n",
       "  'United States',\n",
       "  '1972',\n",
       "  'Semiconductors'],\n",
       " ['AMAT Stock Quote\\n\\n\\r\\n\\t\\t\\t\\t                AMAT Ratings\\n\\n\\r\\n\\t\\t\\t\\t                AMAT Stock Report'],\n",
       " ['Autodesk, Inc.',\n",
       "  'ADSK',\n",
       "  '$38.9B',\n",
       "  'United States',\n",
       "  'n/a',\n",
       "  'Computer Software: Prepackaged Software'],\n",
       " ['ADSK Stock Quote\\n\\n\\r\\n\\t\\t\\t\\t                ADSK Ratings\\n\\n\\r\\n\\t\\t\\t\\t                ADSK Stock Report'],\n",
       " ['Analog Devices, Inc.',\n",
       "  'ADI',\n",
       "  '$38.56B',\n",
       "  'United States',\n",
       "  'n/a',\n",
       "  'Semiconductors'],\n",
       " ['ADI Stock Quote\\n\\n\\r\\n\\t\\t\\t\\t                ADI Ratings\\n\\n\\r\\n\\t\\t\\t\\t                ADI Stock Report'],\n",
       " ['Altaba Inc.', 'AABA', '$37.81B', 'United States', 'n/a', 'EDP Services'],\n",
       " ['AABA Stock Quote\\n\\n\\r\\n\\t\\t\\t\\t                AABA Ratings\\n\\n\\r\\n\\t\\t\\t\\t                AABA Stock Report'],\n",
       " ['Activision Blizzard, Inc',\n",
       "  'ATVI',\n",
       "  '$36.22B',\n",
       "  'United States',\n",
       "  'n/a',\n",
       "  'Computer Software: Prepackaged Software'],\n",
       " ['ATVI Stock Quote\\n\\n\\r\\n\\t\\t\\t\\t                ATVI Ratings\\n\\n\\r\\n\\t\\t\\t\\t                ATVI Stock Report'],\n",
       " ['Fiserv, Inc.', 'FISV', '$34.45B', 'United States', '1986', 'EDP Services'],\n",
       " ['FISV Stock Quote\\n\\n\\r\\n\\t\\t\\t\\t                FISV Ratings\\n\\n\\r\\n\\t\\t\\t\\t                FISV Stock Report'],\n",
       " ['Eaton Corporation, PLC',\n",
       "  'ETN',\n",
       "  '$33.85B',\n",
       "  'Ireland',\n",
       "  'n/a',\n",
       "  'Industrial Machinery/Components'],\n",
       " ['ETN Stock Quote\\n\\n\\r\\n\\t\\t\\t\\t                ETN Ratings\\n\\n\\r\\n\\t\\t\\t\\t                ETN Stock Report'],\n",
       " ['Cognizant Technology Solutions Corporation',\n",
       "  'CTSH',\n",
       "  '$33.38B',\n",
       "  'United States',\n",
       "  '1998',\n",
       "  'EDP Services'],\n",
       " ['CTSH Stock Quote\\n\\n\\r\\n\\t\\t\\t\\t                CTSH Ratings\\n\\n\\r\\n\\t\\t\\t\\t                CTSH Stock Report'],\n",
       " ['Red Hat, Inc.',\n",
       "  'RHT',\n",
       "  '$32.98B',\n",
       "  'United States',\n",
       "  'n/a',\n",
       "  'Computer Software: Programming, Data Processing'],\n",
       " ['RHT Stock Quote\\n\\n\\r\\n\\t\\t\\t\\t                RHT Ratings\\n\\n\\r\\n\\t\\t\\t\\t                RHT Stock Report'],\n",
       " ['Atlassian Corporation Plc',\n",
       "  'TEAM',\n",
       "  '$31.28B',\n",
       "  'United Kingdom',\n",
       "  '2015',\n",
       "  'Computer Software: Prepackaged Software'],\n",
       " ['TEAM Stock Quote\\n\\n\\r\\n\\t\\t\\t\\t                TEAM Ratings\\n\\n\\r\\n\\t\\t\\t\\t                TEAM Stock Report'],\n",
       " ['Advanced Micro Devices, Inc.',\n",
       "  'AMD',\n",
       "  '$30.29B',\n",
       "  'United States',\n",
       "  'n/a',\n",
       "  'Semiconductors'],\n",
       " ['AMD Stock Quote\\n\\n\\r\\n\\t\\t\\t\\t                AMD Ratings\\n\\n\\r\\n\\t\\t\\t\\t                AMD Stock Report'],\n",
       " ['Electronic Arts Inc.',\n",
       "  'EA',\n",
       "  '$29.66B',\n",
       "  'United States',\n",
       "  'n/a',\n",
       "  'Computer Software: Prepackaged Software'],\n",
       " ['EA Stock Quote\\n\\n\\r\\n\\t\\t\\t\\t                EA Ratings\\n\\n\\r\\n\\t\\t\\t\\t                EA Stock Report'],\n",
       " ['Twitter, Inc.',\n",
       "  'TWTR',\n",
       "  '$29.44B',\n",
       "  'n/a',\n",
       "  '2013',\n",
       "  'Computer Software: Programming, Data Processing'],\n",
       " ['TWTR Stock Quote\\n\\n\\r\\n\\t\\t\\t\\t                TWTR Ratings\\n\\n\\r\\n\\t\\t\\t\\t                TWTR Stock Report'],\n",
       " ['Lam Research Corporation',\n",
       "  'LRCX',\n",
       "  '$29.15B',\n",
       "  'United States',\n",
       "  '1984',\n",
       "  'Industrial Machinery/Components'],\n",
       " ['LRCX Stock Quote\\n\\n\\r\\n\\t\\t\\t\\t                LRCX Ratings\\n\\n\\r\\n\\t\\t\\t\\t                LRCX Stock Report'],\n",
       " ['HP Inc.',\n",
       "  'HPQ',\n",
       "  '$29.04B',\n",
       "  'United States',\n",
       "  'n/a',\n",
       "  'Computer Manufacturing'],\n",
       " ['HPQ Stock Quote\\n\\n\\r\\n\\t\\t\\t\\t                HPQ Ratings\\n\\n\\r\\n\\t\\t\\t\\t                HPQ Stock Report'],\n",
       " ['Square, Inc.',\n",
       "  'SQ',\n",
       "  '$28.08B',\n",
       "  'United States',\n",
       "  '2015',\n",
       "  'Computer Software: Prepackaged Software'],\n",
       " ['SQ Stock Quote\\n\\n\\r\\n\\t\\t\\t\\t                SQ Ratings\\n\\n\\r\\n\\t\\t\\t\\t                SQ Stock Report'],\n",
       " ['NXP Semiconductors N.V.',\n",
       "  'NXPI',\n",
       "  '$27.85B',\n",
       "  'Netherlands',\n",
       "  '2010',\n",
       "  'Semiconductors'],\n",
       " ['NXPI Stock Quote\\n\\n\\r\\n\\t\\t\\t\\t                NXPI Ratings\\n\\n\\r\\n\\t\\t\\t\\t                NXPI Stock Report'],\n",
       " ['Nokia Corporation',\n",
       "  'NOK',\n",
       "  '$27.77B',\n",
       "  'Finland',\n",
       "  '1994',\n",
       "  'Radio And Television Broadcasting And Communications Equipment'],\n",
       " ['NOK Stock Quote\\n\\n\\r\\n\\t\\t\\t\\t                NOK Ratings\\n\\n\\r\\n\\t\\t\\t\\t                NOK Stock Report'],\n",
       " ['Shopify Inc.',\n",
       "  'SHOP',\n",
       "  '$27.58B',\n",
       "  'Canada',\n",
       "  '2015',\n",
       "  'Computer Software: Prepackaged Software'],\n",
       " ['SHOP Stock Quote\\n\\n\\r\\n\\t\\t\\t\\t                SHOP Ratings\\n\\n\\r\\n\\t\\t\\t\\t                SHOP Stock Report'],\n",
       " ['Wipro Limited', 'WIT', '$27.03B', 'India', 'n/a', 'EDP Services'],\n",
       " ['WIT Stock Quote\\n\\n\\r\\n\\t\\t\\t\\t                WIT Ratings\\n\\n\\r\\n\\t\\t\\t\\t                WIT Stock Report'],\n",
       " ['Xilinx, Inc.',\n",
       "  'XLNX',\n",
       "  '$26.95B',\n",
       "  'United States',\n",
       "  '1990',\n",
       "  'Semiconductors'],\n",
       " ['XLNX Stock Quote\\n\\n\\r\\n\\t\\t\\t\\t                XLNX Ratings\\n\\n\\r\\n\\t\\t\\t\\t                XLNX Stock Report'],\n",
       " ['Motorola Solutions, Inc.',\n",
       "  'MSI',\n",
       "  '$24.45B',\n",
       "  'United States',\n",
       "  'n/a',\n",
       "  'Radio And Television Broadcasting And Communications Equipment'],\n",
       " ['MSI Stock Quote\\n\\n\\r\\n\\t\\t\\t\\t                MSI Ratings\\n\\n\\r\\n\\t\\t\\t\\t                MSI Stock Report']]"
      ]
     },
     "execution_count": 24,
     "metadata": {},
     "output_type": "execute_result"
    }
   ],
   "source": [
    "data"
   ]
  },
  {
   "cell_type": "code",
   "execution_count": 25,
   "metadata": {
    "colab": {},
    "colab_type": "code",
    "id": "J-XDzaGyJiZa"
   },
   "outputs": [],
   "source": [
    "# 1. Carregar data num pandas Dataframe\n",
    "acoes = pd.DataFrame(list(data))"
   ]
  },
  {
   "cell_type": "code",
   "execution_count": 26,
   "metadata": {
    "colab": {},
    "colab_type": "code",
    "id": "fuR5OUbFKOE4"
   },
   "outputs": [],
   "source": [
    "acoes = acoes.dropna(subset=[1])"
   ]
  },
  {
   "cell_type": "code",
   "execution_count": 27,
   "metadata": {
    "colab": {},
    "colab_type": "code",
    "id": "YFjBpbJnKS8j"
   },
   "outputs": [],
   "source": [
    "acoes.columns = ['Name', 'Symbol','Market Cap','Country','IPO Year','Sector','Sub Sector']"
   ]
  },
  {
   "cell_type": "code",
   "execution_count": 28,
   "metadata": {
    "colab": {
     "base_uri": "https://localhost:8080/",
     "height": 221
    },
    "colab_type": "code",
    "id": "A04-GbzyLTQy",
    "outputId": "42638e29-5bcc-4181-c620-f38f7c6fb387"
   },
   "outputs": [
    {
     "name": "stdout",
     "output_type": "stream",
     "text": [
      "<class 'pandas.core.frame.DataFrame'>\n",
      "Int64Index: 50 entries, 1 to 99\n",
      "Data columns (total 7 columns):\n",
      "Name          50 non-null object\n",
      "Symbol        50 non-null object\n",
      "Market Cap    50 non-null object\n",
      "Country       50 non-null object\n",
      "IPO Year      50 non-null object\n",
      "Sector        50 non-null object\n",
      "Sub Sector    1 non-null object\n",
      "dtypes: object(7)\n",
      "memory usage: 3.1+ KB\n"
     ]
    }
   ],
   "source": [
    "acoes.info()"
   ]
  },
  {
   "cell_type": "code",
   "execution_count": 29,
   "metadata": {
    "colab": {
     "base_uri": "https://localhost:8080/",
     "height": 306
    },
    "colab_type": "code",
    "id": "0HiqcAZULVEB",
    "outputId": "5bc5be9e-2b0b-44cf-dcfa-6974a57a5a6f"
   },
   "outputs": [
    {
     "data": {
      "text/html": [
       "<div>\n",
       "<style scoped>\n",
       "    .dataframe tbody tr th:only-of-type {\n",
       "        vertical-align: middle;\n",
       "    }\n",
       "\n",
       "    .dataframe tbody tr th {\n",
       "        vertical-align: top;\n",
       "    }\n",
       "\n",
       "    .dataframe thead th {\n",
       "        text-align: right;\n",
       "    }\n",
       "</style>\n",
       "<table border=\"1\" class=\"dataframe\">\n",
       "  <thead>\n",
       "    <tr style=\"text-align: right;\">\n",
       "      <th></th>\n",
       "      <th>Name</th>\n",
       "      <th>Symbol</th>\n",
       "      <th>Market Cap</th>\n",
       "      <th>Country</th>\n",
       "      <th>IPO Year</th>\n",
       "      <th>Sector</th>\n",
       "      <th>Sub Sector</th>\n",
       "    </tr>\n",
       "  </thead>\n",
       "  <tbody>\n",
       "    <tr>\n",
       "      <th>1</th>\n",
       "      <td>Microsoft Corporation</td>\n",
       "      <td>MSFT</td>\n",
       "      <td>$987.97B</td>\n",
       "      <td>United States</td>\n",
       "      <td>1986</td>\n",
       "      <td>Computer Software: Prepackaged Software</td>\n",
       "      <td>None</td>\n",
       "    </tr>\n",
       "    <tr>\n",
       "      <th>3</th>\n",
       "      <td>Apple Inc.</td>\n",
       "      <td>AAPL</td>\n",
       "      <td>$874.57B</td>\n",
       "      <td>United States</td>\n",
       "      <td>1980</td>\n",
       "      <td>Computer Manufacturing</td>\n",
       "      <td>None</td>\n",
       "    </tr>\n",
       "    <tr>\n",
       "      <th>5</th>\n",
       "      <td>Alphabet Inc.</td>\n",
       "      <td>GOOGL</td>\n",
       "      <td>$822.33B</td>\n",
       "      <td>United States</td>\n",
       "      <td>n/a</td>\n",
       "      <td>Computer Software: Programming, Data Processing</td>\n",
       "      <td>None</td>\n",
       "    </tr>\n",
       "    <tr>\n",
       "      <th>7</th>\n",
       "      <td>Alphabet Inc.</td>\n",
       "      <td>GOOG</td>\n",
       "      <td>$818.5B</td>\n",
       "      <td>United States</td>\n",
       "      <td>2004</td>\n",
       "      <td>Computer Software: Programming, Data Processing</td>\n",
       "      <td>None</td>\n",
       "    </tr>\n",
       "    <tr>\n",
       "      <th>9</th>\n",
       "      <td>Facebook, Inc.</td>\n",
       "      <td>FB</td>\n",
       "      <td>$533.76B</td>\n",
       "      <td>United States</td>\n",
       "      <td>2012</td>\n",
       "      <td>Computer Software: Programming, Data Processing</td>\n",
       "      <td>None</td>\n",
       "    </tr>\n",
       "  </tbody>\n",
       "</table>\n",
       "</div>"
      ],
      "text/plain": [
       "                    Name Symbol Market Cap        Country IPO Year  \\\n",
       "1  Microsoft Corporation   MSFT   $987.97B  United States     1986   \n",
       "3             Apple Inc.   AAPL   $874.57B  United States     1980   \n",
       "5          Alphabet Inc.  GOOGL   $822.33B  United States      n/a   \n",
       "7          Alphabet Inc.   GOOG    $818.5B  United States     2004   \n",
       "9         Facebook, Inc.     FB   $533.76B  United States     2012   \n",
       "\n",
       "                                            Sector Sub Sector  \n",
       "1          Computer Software: Prepackaged Software       None  \n",
       "3                           Computer Manufacturing       None  \n",
       "5  Computer Software: Programming, Data Processing       None  \n",
       "7  Computer Software: Programming, Data Processing       None  \n",
       "9  Computer Software: Programming, Data Processing       None  "
      ]
     },
     "execution_count": 29,
     "metadata": {},
     "output_type": "execute_result"
    }
   ],
   "source": [
    "acoes.head()"
   ]
  },
  {
   "cell_type": "code",
   "execution_count": 30,
   "metadata": {
    "colab": {},
    "colab_type": "code",
    "id": "giRtkihfLlT6"
   },
   "outputs": [],
   "source": [
    "acoes.to_csv('acoes.csv')"
   ]
  },
  {
   "cell_type": "code",
   "execution_count": 0,
   "metadata": {
    "colab": {},
    "colab_type": "code",
    "id": "CiR7pIGLMXEc"
   },
   "outputs": [],
   "source": [
    "# desafio: fizemos somente para a primeira página\n",
    "# ref: https://towardsdatascience.com/web-scraping-for-beginners-beautifulsoup-scrapy-selenium-twitter-api-f5a6d0589ea6"
   ]
  },
  {
   "cell_type": "code",
   "execution_count": 0,
   "metadata": {
    "colab": {},
    "colab_type": "code",
    "id": "K-XCOV51MvaP"
   },
   "outputs": [],
   "source": []
  }
 ],
 "metadata": {
  "colab": {
   "name": "webscrapper_beautfulsoap.ipynb",
   "provenance": [],
   "version": "0.3.2"
  },
  "kernelspec": {
   "display_name": "Python 3",
   "language": "python",
   "name": "python3"
  },
  "language_info": {
   "codemirror_mode": {
    "name": "ipython",
    "version": 3
   },
   "file_extension": ".py",
   "mimetype": "text/x-python",
   "name": "python",
   "nbconvert_exporter": "python",
   "pygments_lexer": "ipython3",
   "version": "3.6.8"
  }
 },
 "nbformat": 4,
 "nbformat_minor": 1
}
